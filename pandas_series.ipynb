{
 "cells": [
  {
   "cell_type": "markdown",
   "id": "944ff99d",
   "metadata": {},
   "source": [
    "# Make a file named pandas_series.py or pandas_series.ipynb for the following exercises.\n",
    "\n",
    "Use pandas to create a Series named fruits from the following list:\n",
    "\n",
    "\n",
    "    [\"kiwi\", \"mango\", \"strawberry\", \"pineapple\", \"gala apple\", \"honeycrisp apple\", \"tomato\", \"watermelon\", \"honeydew\", \"kiwi\", \"kiwi\", \"kiwi\", \"mango\", \"blueberry\", \"blackberry\", \"gooseberry\", \"papaya\"]\n",
    "Use Series attributes and methods to explore your fruits Series.\n",
    "\n",
    "Determine the number of elements in fruits.\n",
    "\n",
    "Output only the index from fruits.\n",
    "\n",
    "Output only the values from fruits.\n",
    "\n",
    "Confirm the data type of the values in fruits.\n",
    "\n",
    "Output only the first five values from fruits. Output the last three values. Output two random values from fruits.\n",
    "\n",
    "Run the .describe() on fruits to see what information it returns when called on a Series with string values.\n",
    "\n",
    "Run the code necessary to produce only the unique string values from fruits.\n",
    "\n",
    "Determine how many times each unique string value occurs in fruits.\n",
    "\n",
    "Determine the string value that occurs most frequently in fruits.\n",
    "\n",
    "Determine the string value that occurs least frequently in fruits."
   ]
  },
  {
   "cell_type": "code",
   "execution_count": 1,
   "id": "4f1bcb06",
   "metadata": {},
   "outputs": [],
   "source": [
    "import numpy as np\n",
    "import pandas as pd\n",
    "\n",
    "import matplotlib.pyplot as plt\n"
   ]
  },
  {
   "cell_type": "code",
   "execution_count": 2,
   "id": "774f7a6a",
   "metadata": {},
   "outputs": [
    {
     "name": "stdout",
     "output_type": "stream",
     "text": [
      "0                 kiwi\n",
      "1                mango\n",
      "2           strawberry\n",
      "3            pineapple\n",
      "4           gala apple\n",
      "5     honeycrisp apple\n",
      "6               tomato\n",
      "7           watermelon\n",
      "8             honeydew\n",
      "9                 kiwi\n",
      "10                kiwi\n",
      "11                kiwi\n",
      "12               mango\n",
      "13           blueberry\n",
      "14          blackberry\n",
      "15          gooseberry\n",
      "16              papaya\n",
      "dtype: object\n"
     ]
    }
   ],
   "source": [
    "fruits = pd.Series([\"kiwi\", \"mango\", \"strawberry\", \"pineapple\", \"gala apple\", \"honeycrisp apple\", \"tomato\", \"watermelon\", \"honeydew\", \"kiwi\", \"kiwi\", \"kiwi\", \"mango\", \"blueberry\", \"blackberry\", \"gooseberry\", \"papaya\"])\n",
    "print(fruits)"
   ]
  },
  {
   "cell_type": "code",
   "execution_count": 3,
   "id": "228370b3",
   "metadata": {},
   "outputs": [
    {
     "data": {
      "text/plain": [
       "count       17\n",
       "unique      13\n",
       "top       kiwi\n",
       "freq         4\n",
       "dtype: object"
      ]
     },
     "execution_count": 3,
     "metadata": {},
     "output_type": "execute_result"
    }
   ],
   "source": [
    "#1 Determine the number of elements in fruits.\n",
    "\n",
    "fruits.describe()"
   ]
  },
  {
   "cell_type": "code",
   "execution_count": 4,
   "id": "4a7cbe7f",
   "metadata": {},
   "outputs": [
    {
     "data": {
      "text/plain": [
       "17"
      ]
     },
     "execution_count": 4,
     "metadata": {},
     "output_type": "execute_result"
    }
   ],
   "source": [
    "fruits.count()"
   ]
  },
  {
   "cell_type": "code",
   "execution_count": 5,
   "id": "00bcd15e",
   "metadata": {},
   "outputs": [
    {
     "data": {
      "text/plain": [
       "0                 kiwi\n",
       "1                mango\n",
       "2           strawberry\n",
       "3            pineapple\n",
       "4           gala apple\n",
       "5     honeycrisp apple\n",
       "6               tomato\n",
       "7           watermelon\n",
       "8             honeydew\n",
       "9                 kiwi\n",
       "10                kiwi\n",
       "11                kiwi\n",
       "12               mango\n",
       "13           blueberry\n",
       "14          blackberry\n",
       "15          gooseberry\n",
       "16              papaya\n",
       "dtype: object"
      ]
     },
     "execution_count": 5,
     "metadata": {},
     "output_type": "execute_result"
    }
   ],
   "source": [
    "#2 Output only the index from fruits.\n",
    "#fruits.index\n",
    "#fruits.index.tolist()\n",
    "\n",
    "fruits.sort_index()"
   ]
  },
  {
   "cell_type": "code",
   "execution_count": 6,
   "id": "f03ae7d8",
   "metadata": {},
   "outputs": [
    {
     "data": {
      "text/plain": [
       "14          blackberry\n",
       "13           blueberry\n",
       "4           gala apple\n",
       "15          gooseberry\n",
       "5     honeycrisp apple\n",
       "8             honeydew\n",
       "11                kiwi\n",
       "10                kiwi\n",
       "9                 kiwi\n",
       "0                 kiwi\n",
       "12               mango\n",
       "1                mango\n",
       "16              papaya\n",
       "3            pineapple\n",
       "2           strawberry\n",
       "6               tomato\n",
       "7           watermelon\n",
       "dtype: object"
      ]
     },
     "execution_count": 6,
     "metadata": {},
     "output_type": "execute_result"
    }
   ],
   "source": [
    "#3 Output only the values from fruits.\n",
    "# fruits.values\n",
    "# fruits.values.tolist()\n",
    "\n",
    "fruits.sort_values()"
   ]
  },
  {
   "cell_type": "code",
   "execution_count": 7,
   "id": "746fb7d4",
   "metadata": {},
   "outputs": [
    {
     "data": {
      "text/plain": [
       "pandas.core.series.Series"
      ]
     },
     "execution_count": 7,
     "metadata": {},
     "output_type": "execute_result"
    }
   ],
   "source": [
    "#4 Confirm the data type of the values in fruits.\n",
    "#fruits.dtype\n",
    "type(fruits)"
   ]
  },
  {
   "cell_type": "code",
   "execution_count": 8,
   "id": "43f07e2a",
   "metadata": {},
   "outputs": [
    {
     "name": "stdout",
     "output_type": "stream",
     "text": [
      "0          kiwi\n",
      "1         mango\n",
      "2    strawberry\n",
      "3     pineapple\n",
      "4    gala apple\n",
      "dtype: object 14    blackberry\n",
      "15    gooseberry\n",
      "16        papaya\n",
      "dtype: object 5    honeycrisp apple\n",
      "0                kiwi\n",
      "dtype: object\n"
     ]
    }
   ],
   "source": [
    "#5 Output only the first five values from fruits. \n",
    "#Output the last three values. \n",
    "#Output two random values from fruits.\n",
    "\n",
    "first_five = fruits.head(5)\n",
    "last_three = fruits.tail(3)\n",
    "two_random = fruits.sample(2)\n",
    "print(first_five, \n",
    "      last_three, \n",
    "      two_random)"
   ]
  },
  {
   "cell_type": "code",
   "execution_count": 9,
   "id": "aece3b76",
   "metadata": {},
   "outputs": [
    {
     "data": {
      "text/plain": [
       "count       17\n",
       "unique      13\n",
       "top       kiwi\n",
       "freq         4\n",
       "dtype: object"
      ]
     },
     "execution_count": 9,
     "metadata": {},
     "output_type": "execute_result"
    }
   ],
   "source": [
    "#6 Run the .describe() on fruits to see what information it returns when called on a Series with string values.\n",
    "fruits.describe()"
   ]
  },
  {
   "cell_type": "code",
   "execution_count": 10,
   "id": "007fbe40",
   "metadata": {},
   "outputs": [
    {
     "data": {
      "text/plain": [
       "array(['kiwi', 'mango', 'strawberry', 'pineapple', 'gala apple',\n",
       "       'honeycrisp apple', 'tomato', 'watermelon', 'honeydew',\n",
       "       'blueberry', 'blackberry', 'gooseberry', 'papaya'], dtype=object)"
      ]
     },
     "execution_count": 10,
     "metadata": {},
     "output_type": "execute_result"
    }
   ],
   "source": [
    "#7 Run the code necessary to produce only the unique string values from fruits.\n",
    "# fruits.unique.tolist()\n",
    "# fruits.nunique() #number of unique values\n",
    "fruits.unique()"
   ]
  },
  {
   "cell_type": "code",
   "execution_count": 11,
   "id": "b9894e12",
   "metadata": {},
   "outputs": [
    {
     "name": "stdout",
     "output_type": "stream",
     "text": [
      "kiwi                4\n",
      "mango               2\n",
      "blackberry          1\n",
      "honeycrisp apple    1\n",
      "honeydew            1\n",
      "gala apple          1\n",
      "papaya              1\n",
      "tomato              1\n",
      "watermelon          1\n",
      "blueberry           1\n",
      "pineapple           1\n",
      "strawberry          1\n",
      "gooseberry          1\n",
      "dtype: int64\n"
     ]
    }
   ],
   "source": [
    "#8 Determine how many times each unique string value occurs in fruits.\n",
    "\n",
    "unique_value = fruits.value_counts()\n",
    "\n",
    "print(unique_value)"
   ]
  },
  {
   "cell_type": "code",
   "execution_count": 12,
   "id": "db06278c",
   "metadata": {},
   "outputs": [
    {
     "data": {
      "text/plain": [
       "kiwi    4\n",
       "dtype: int64"
      ]
     },
     "execution_count": 12,
     "metadata": {},
     "output_type": "execute_result"
    }
   ],
   "source": [
    "#9 Determine the string value that occurs most frequently in fruits.\n",
    "# fruits.value_counts().head(1)\n",
    "# fruits.value_counts().idxmax() -- only returns the first occurance \"kiwi\"\n",
    "\n",
    "fruits.value_counts().nlargest(n = 1, keep = \"all\")"
   ]
  },
  {
   "cell_type": "code",
   "execution_count": 13,
   "id": "7f275a4c",
   "metadata": {},
   "outputs": [
    {
     "name": "stdout",
     "output_type": "stream",
     "text": [
      "blackberry          1.0\n",
      "honeycrisp apple    1.0\n",
      "honeydew            1.0\n",
      "gala apple          1.0\n",
      "papaya              1.0\n",
      "tomato              1.0\n",
      "watermelon          1.0\n",
      "blueberry           1.0\n",
      "pineapple           1.0\n",
      "strawberry          1.0\n",
      "gooseberry          1.0\n",
      "dtype: float64\n"
     ]
    }
   ],
   "source": [
    "#10 Determine the string value that occurs least frequently in fruits.\n",
    "\n",
    "counts = fruits.value_counts()\n",
    "min_count = counts.min()\n",
    "print(counts.where(counts == min_count).dropna())"
   ]
  },
  {
   "cell_type": "code",
   "execution_count": 14,
   "id": "f503968e",
   "metadata": {},
   "outputs": [
    {
     "data": {
      "text/plain": [
       "blackberry          1\n",
       "honeycrisp apple    1\n",
       "honeydew            1\n",
       "gala apple          1\n",
       "papaya              1\n",
       "tomato              1\n",
       "watermelon          1\n",
       "blueberry           1\n",
       "pineapple           1\n",
       "strawberry          1\n",
       "gooseberry          1\n",
       "dtype: int64"
      ]
     },
     "execution_count": 14,
     "metadata": {},
     "output_type": "execute_result"
    }
   ],
   "source": [
    "# another way to answer #10 Determine the string value that occurs least frequently in fruits.\n",
    "fruits.value_counts().nsmallest(n = 1, keep = \"all\")"
   ]
  },
  {
   "cell_type": "markdown",
   "id": "42d2a190",
   "metadata": {},
   "source": [
    "# Exercises Part II\n",
    "Explore more attributes and methods while you continue to work with the fruits Series.\n",
    "\n",
    "1 Capitalize all the string values in fruits.\n",
    "\n",
    "2 Count the letter \"a\" in all the string values (use string vectorization).\n",
    "\n",
    "3 Output the number of vowels in each and every string value.\n",
    "\n",
    "4 Write the code to get the longest string value from fruits.\n",
    "\n",
    "5 Write the code to get the string values with 5 or more letters in the name.\n",
    "\n",
    "6 Use the .apply method with a lambda function to find the fruit(s) containing the letter \"o\" two or more times.\n",
    "\n",
    "7 Write the code to get only the string values containing the substring \"berry\".\n",
    "\n",
    "8 Write the code to get only the string values containing the substring \"apple\".\n",
    "\n",
    "9 Which string value contains the most vowels?"
   ]
  },
  {
   "cell_type": "code",
   "execution_count": 15,
   "id": "74a23ccf",
   "metadata": {},
   "outputs": [
    {
     "data": {
      "text/plain": [
       "0                 KIWI\n",
       "1                MANGO\n",
       "2           STRAWBERRY\n",
       "3            PINEAPPLE\n",
       "4           GALA APPLE\n",
       "5     HONEYCRISP APPLE\n",
       "6               TOMATO\n",
       "7           WATERMELON\n",
       "8             HONEYDEW\n",
       "9                 KIWI\n",
       "10                KIWI\n",
       "11                KIWI\n",
       "12               MANGO\n",
       "13           BLUEBERRY\n",
       "14          BLACKBERRY\n",
       "15          GOOSEBERRY\n",
       "16              PAPAYA\n",
       "dtype: object"
      ]
     },
     "execution_count": 15,
     "metadata": {},
     "output_type": "execute_result"
    }
   ],
   "source": [
    "# 1 Capitalize all the string values in fruits.\n",
    "fruits.str.upper()"
   ]
  },
  {
   "cell_type": "code",
   "execution_count": 16,
   "id": "0f429c75",
   "metadata": {},
   "outputs": [
    {
     "name": "stdout",
     "output_type": "stream",
     "text": [
      "14\n"
     ]
    }
   ],
   "source": [
    "# 2 Count the letter \"a\" in all the string values (use string vectorization).\n",
    "count_fruit = fruits.str.count('a').sum()\n",
    "print(count_fruit)"
   ]
  },
  {
   "cell_type": "code",
   "execution_count": 17,
   "id": "34c8c4d0",
   "metadata": {},
   "outputs": [
    {
     "name": "stdout",
     "output_type": "stream",
     "text": [
      "0     2\n",
      "1     2\n",
      "2     2\n",
      "3     4\n",
      "4     4\n",
      "5     5\n",
      "6     3\n",
      "7     4\n",
      "8     3\n",
      "9     2\n",
      "10    2\n",
      "11    2\n",
      "12    2\n",
      "13    3\n",
      "14    2\n",
      "15    4\n",
      "16    3\n",
      "dtype: int64\n"
     ]
    }
   ],
   "source": [
    "# 3 Output the number of vowels in each and every string value.\n",
    "num_vowels = fruits.str.count(r'[aeiou]')\n",
    "print(num_vowels)"
   ]
  },
  {
   "cell_type": "code",
   "execution_count": 18,
   "id": "7fe90308",
   "metadata": {},
   "outputs": [
    {
     "data": {
      "text/plain": [
       "16"
      ]
     },
     "execution_count": 18,
     "metadata": {},
     "output_type": "execute_result"
    }
   ],
   "source": [
    "# 4 Write the code to get the longest string value from fruits.\n",
    "fruit_length = fruits.str.len()\n",
    "fruit_length.max()"
   ]
  },
  {
   "cell_type": "code",
   "execution_count": 19,
   "id": "63b84af5",
   "metadata": {},
   "outputs": [
    {
     "name": "stdout",
     "output_type": "stream",
     "text": [
      "16\n"
     ]
    }
   ],
   "source": [
    "#4 easier one liner\n",
    "fruit_length_1 = max(fruits.str.len())\n",
    "print(fruit_length_1)\n",
    "# max(fruits, key=len)"
   ]
  },
  {
   "cell_type": "code",
   "execution_count": 20,
   "id": "b8d81040",
   "metadata": {},
   "outputs": [
    {
     "name": "stdout",
     "output_type": "stream",
     "text": [
      "1      5\n",
      "2     10\n",
      "3      9\n",
      "4     10\n",
      "5     16\n",
      "6      6\n",
      "7     10\n",
      "8      8\n",
      "12     5\n",
      "13     9\n",
      "14    10\n",
      "15    10\n",
      "16     6\n",
      "dtype: int64\n"
     ]
    }
   ],
   "source": [
    "# 5 Write the code to get the string values with 5 or more letters in the name.\n",
    "fruit_length_5 = fruit_length[fruit_length >= 5]\n",
    "print(fruit_length_5)"
   ]
  },
  {
   "cell_type": "code",
   "execution_count": 21,
   "id": "3bbdfea0",
   "metadata": {},
   "outputs": [
    {
     "name": "stdout",
     "output_type": "stream",
     "text": [
      "6         tomato\n",
      "15    gooseberry\n",
      "dtype: object\n"
     ]
    }
   ],
   "source": [
    "# 6 Use the .apply method with a lambda function to find the fruit(s) containing the letter \"o\" two or more times.\n",
    "mask = fruits.apply(lambda n: n.count('o') >= 2)\n",
    "print(fruits[mask])"
   ]
  },
  {
   "cell_type": "code",
   "execution_count": 22,
   "id": "d2887c2b",
   "metadata": {},
   "outputs": [
    {
     "data": {
      "text/plain": [
       "2     strawberry\n",
       "13     blueberry\n",
       "14    blackberry\n",
       "15    gooseberry\n",
       "dtype: object"
      ]
     },
     "execution_count": 22,
     "metadata": {},
     "output_type": "execute_result"
    }
   ],
   "source": [
    "# 7 Write the code to get only the string values containing the substring \"berry\".\n",
    "# mask = fruits.apply(lambda row: 'berry' in row)\n",
    "# fruits[mask]\n",
    "berry_mask = fruits.apply(lambda n: \"berry\" in n)\n",
    "fruits[berry_mask]"
   ]
  },
  {
   "cell_type": "code",
   "execution_count": 23,
   "id": "dbd2e33a",
   "metadata": {},
   "outputs": [
    {
     "name": "stdout",
     "output_type": "stream",
     "text": [
      "3           pineapple\n",
      "4          gala apple\n",
      "5    honeycrisp apple\n",
      "dtype: object\n"
     ]
    }
   ],
   "source": [
    "# 8 Write the code to get only the string values containing the substring \"apple\".\n",
    "#print(data[data.str.contains(\"apple\")])\n",
    "apple_1 = fruits[fruits.str.contains(\"apple\")]\n",
    "print(apple_1)"
   ]
  },
  {
   "cell_type": "code",
   "execution_count": 24,
   "id": "ba35608d",
   "metadata": {},
   "outputs": [
    {
     "data": {
      "text/plain": [
       "'honeycrisp apple'"
      ]
     },
     "execution_count": 24,
     "metadata": {},
     "output_type": "execute_result"
    }
   ],
   "source": [
    "# 9 Which string value contains the most vowels?\n",
    "#fruits[fruits.apply(vowel_counter) == fruits.apply(vowel_counter).max()]\n",
    "\n",
    "fruits[max(fruits.str.count(r'[aeiou]'))]"
   ]
  },
  {
   "cell_type": "markdown",
   "id": "2c2e8e18",
   "metadata": {},
   "source": [
    "# Exercises Part III\n",
    "Use pandas to create a Series named letters from the following string:"
   ]
  },
  {
   "cell_type": "code",
   "execution_count": 65,
   "id": "947fc349",
   "metadata": {},
   "outputs": [
    {
     "data": {
      "text/plain": [
       "['h',\n",
       " 'n',\n",
       " 'v',\n",
       " 'i',\n",
       " 'd',\n",
       " 'd',\n",
       " 'u',\n",
       " 'c',\n",
       " 'k',\n",
       " 'k',\n",
       " 'q',\n",
       " 'x',\n",
       " 'w',\n",
       " 'y',\n",
       " 'm',\n",
       " 'b',\n",
       " 'i',\n",
       " 'm',\n",
       " 'k',\n",
       " 'c',\n",
       " 'c',\n",
       " 'e',\n",
       " 'x',\n",
       " 'b',\n",
       " 'k',\n",
       " 'm',\n",
       " 'q',\n",
       " 'y',\n",
       " 'g',\n",
       " 'k',\n",
       " 'x',\n",
       " 'o',\n",
       " 'y',\n",
       " 'n',\n",
       " 'd',\n",
       " 'm',\n",
       " 'c',\n",
       " 'x',\n",
       " 'n',\n",
       " 'w',\n",
       " 'q',\n",
       " 'a',\n",
       " 'r',\n",
       " 'h',\n",
       " 'y',\n",
       " 'f',\n",
       " 'f',\n",
       " 's',\n",
       " 'j',\n",
       " 'p',\n",
       " 's',\n",
       " 'r',\n",
       " 'a',\n",
       " 'b',\n",
       " 't',\n",
       " 'j',\n",
       " 'z',\n",
       " 's',\n",
       " 'y',\n",
       " 'p',\n",
       " 'm',\n",
       " 'z',\n",
       " 'a',\n",
       " 'd',\n",
       " 'f',\n",
       " 'a',\n",
       " 'v',\n",
       " 'y',\n",
       " 'r',\n",
       " 'n',\n",
       " 'n',\n",
       " 'd',\n",
       " 'n',\n",
       " 'd',\n",
       " 'v',\n",
       " 's',\n",
       " 'w',\n",
       " 'r',\n",
       " 'e',\n",
       " 'a',\n",
       " 'u',\n",
       " 'x',\n",
       " 'o',\n",
       " 'v',\n",
       " 'n',\n",
       " 'c',\n",
       " 'x',\n",
       " 't',\n",
       " 'w',\n",
       " 'z',\n",
       " 'p',\n",
       " 'w',\n",
       " 'e',\n",
       " 'j',\n",
       " 'i',\n",
       " 'l',\n",
       " 'z',\n",
       " 'j',\n",
       " 'r',\n",
       " 'm',\n",
       " 'm',\n",
       " 'b',\n",
       " 'b',\n",
       " 'g',\n",
       " 'b',\n",
       " 'y',\n",
       " 'x',\n",
       " 'v',\n",
       " 'j',\n",
       " 't',\n",
       " 'e',\n",
       " 'w',\n",
       " 'q',\n",
       " 't',\n",
       " 'h',\n",
       " 'a',\n",
       " 'f',\n",
       " 'n',\n",
       " 'b',\n",
       " 'k',\n",
       " 'q',\n",
       " 'p',\n",
       " 'l',\n",
       " 'a',\n",
       " 'r',\n",
       " 'o',\n",
       " 'k',\n",
       " 'k',\n",
       " 'y',\n",
       " 'y',\n",
       " 'd',\n",
       " 't',\n",
       " 'u',\n",
       " 'b',\n",
       " 'b',\n",
       " 'm',\n",
       " 'n',\n",
       " 'e',\n",
       " 'x',\n",
       " 'o',\n",
       " 'y',\n",
       " 'p',\n",
       " 'u',\n",
       " 'l',\n",
       " 'z',\n",
       " 'w',\n",
       " 'f',\n",
       " 'h',\n",
       " 'q',\n",
       " 'v',\n",
       " 'c',\n",
       " 'k',\n",
       " 'd',\n",
       " 'p',\n",
       " 'q',\n",
       " 't',\n",
       " 'p',\n",
       " 'o',\n",
       " 'p',\n",
       " 'p',\n",
       " 'z',\n",
       " 'q',\n",
       " 'r',\n",
       " 'm',\n",
       " 'c',\n",
       " 'v',\n",
       " 'h',\n",
       " 'h',\n",
       " 'p',\n",
       " 'w',\n",
       " 'g',\n",
       " 'j',\n",
       " 'w',\n",
       " 'u',\n",
       " 'p',\n",
       " 'g',\n",
       " 'z',\n",
       " 'h',\n",
       " 'i',\n",
       " 'o',\n",
       " 'f',\n",
       " 'o',\n",
       " 'h',\n",
       " 'a',\n",
       " 'w',\n",
       " 'y',\n",
       " 't',\n",
       " 'l',\n",
       " 's',\n",
       " 'i',\n",
       " 'y',\n",
       " 'e',\n",
       " 'c',\n",
       " 'u',\n",
       " 'p',\n",
       " 'r',\n",
       " 'o',\n",
       " 'g',\n",
       " 'u',\n",
       " 'y']"
      ]
     },
     "execution_count": 65,
     "metadata": {},
     "output_type": "execute_result"
    }
   ],
   "source": [
    "letters = list('hnvidduckkqxwymbimkccexbkmqygkxoyndmcxnwqarhyffsjpsrabtjzsypmzadfavyrnndndvswreauxovncxtwzpwejilzjrmmbbgbyxvjtewqthafnbkqplarokkyydtubbmnexoypulzwfhqvckdpqtpoppzqrmcvhhpwgjwupgzhiofohawytlsiyecuproguy')\n",
    "\n",
    "letters"
   ]
  },
  {
   "cell_type": "code",
   "execution_count": 151,
   "id": "873cebe2",
   "metadata": {},
   "outputs": [
    {
     "data": {
      "text/plain": [
       "0    h\n",
       "1    n\n",
       "2    v\n",
       "3    i\n",
       "4    d\n",
       "dtype: object"
      ]
     },
     "execution_count": 151,
     "metadata": {},
     "output_type": "execute_result"
    }
   ],
   "source": [
    "letters_series[:5]"
   ]
  },
  {
   "cell_type": "code",
   "execution_count": 66,
   "id": "d268e4b6",
   "metadata": {},
   "outputs": [
    {
     "data": {
      "text/plain": [
       "0      h\n",
       "1      n\n",
       "2      v\n",
       "3      i\n",
       "4      d\n",
       "      ..\n",
       "195    r\n",
       "196    o\n",
       "197    g\n",
       "198    u\n",
       "199    y\n",
       "Length: 200, dtype: object"
      ]
     },
     "execution_count": 66,
     "metadata": {},
     "output_type": "execute_result"
    }
   ],
   "source": [
    "letters_series = pd.Series(letters)\n",
    "letters_series"
   ]
  },
  {
   "cell_type": "markdown",
   "id": "eb4da651",
   "metadata": {},
   "source": [
    "1 Which letter occurs the most frequently in the letters Series?\n",
    "\n",
    "2 Which letter occurs the Least frequently?\n",
    "\n",
    "3 How many vowels are in the Series?\n",
    "\n",
    "4 How many consonants are in the Series?\n",
    "\n",
    "5 Create a Series that has all of the same letters but uppercased.\n",
    "\n",
    "6 Create a bar plot of the frequencies of the 6 most commonly occuring letters."
   ]
  },
  {
   "cell_type": "code",
   "execution_count": 159,
   "id": "eaebeb71",
   "metadata": {},
   "outputs": [
    {
     "data": {
      "text/plain": [
       "y    13\n",
       "dtype: int64"
      ]
     },
     "execution_count": 159,
     "metadata": {},
     "output_type": "execute_result"
    }
   ],
   "source": [
    "# 1 Which letter occurs the most frequently in the letters Series?\n",
    "letters_series.value_counts().nlargest(n=1, keep='all')\n",
    "\n",
    "#example)\n",
    "\n",
    "#letters.value_counts().nlargest(n=1, keep='all')"
   ]
  },
  {
   "cell_type": "code",
   "execution_count": 160,
   "id": "15e9ef07",
   "metadata": {},
   "outputs": [
    {
     "data": {
      "text/plain": [
       "l    4\n",
       "dtype: int64"
      ]
     },
     "execution_count": 160,
     "metadata": {},
     "output_type": "execute_result"
    }
   ],
   "source": [
    "# 2 Which letter occurs the Least frequently?\n",
    "letters_series.value_counts().nsmallest(n=1, keep='all')\n"
   ]
  },
  {
   "cell_type": "code",
   "execution_count": 85,
   "id": "fe845167",
   "metadata": {},
   "outputs": [
    {
     "data": {
      "text/plain": [
       "34"
      ]
     },
     "execution_count": 85,
     "metadata": {},
     "output_type": "execute_result"
    }
   ],
   "source": [
    "# 3 How many vowels are in the Series?\n",
    "letters_series.str.count(r'[aeiou]').sum()\n",
    "\n",
    "#(letters.str.lower().isin(['a', 'e', 'i', 'o', 'u'])).sum()"
   ]
  },
  {
   "cell_type": "code",
   "execution_count": 92,
   "id": "0d1fd50f",
   "metadata": {},
   "outputs": [
    {
     "data": {
      "text/plain": [
       "166"
      ]
     },
     "execution_count": 92,
     "metadata": {},
     "output_type": "execute_result"
    }
   ],
   "source": [
    "# 4 How many consonants are in the Series?\n",
    "letters_series.str.count(r'[bcdfghjklmnpqrstvwxzy]').sum()\n",
    "\n",
    "# Identify and total the consonants in the Series. \n",
    "# By adding the carrot to our regex pattern, we count all EXCEPT the vowels.\n",
    "\n",
    "#letters.str.lower().str.count('[^aeiou]').sum()"
   ]
  },
  {
   "cell_type": "code",
   "execution_count": 93,
   "id": "ca3eb6e4",
   "metadata": {},
   "outputs": [
    {
     "data": {
      "text/plain": [
       "0      H\n",
       "1      N\n",
       "2      V\n",
       "3      I\n",
       "4      D\n",
       "      ..\n",
       "195    R\n",
       "196    O\n",
       "197    G\n",
       "198    U\n",
       "199    Y\n",
       "Length: 200, dtype: object"
      ]
     },
     "execution_count": 93,
     "metadata": {},
     "output_type": "execute_result"
    }
   ],
   "source": [
    "# 5 Create a Series that has all of the same letters but uppercased.\n",
    "letters_series.str.upper()"
   ]
  },
  {
   "cell_type": "code",
   "execution_count": 96,
   "id": "446ad994",
   "metadata": {},
   "outputs": [
    {
     "data": {
      "image/png": "[encoded data removed]",
      "text/plain": [
       "<Figure size 432x288 with 1 Axes>"
      ]
     },
     "metadata": {
      "needs_background": "light"
     },
     "output_type": "display_data"
    }
   ],
   "source": [
    "# 6 Create a bar plot of the frequencies of the 6 most commonly occuring letters.\n",
    "letters_series.value_counts().plot.bar(rot=0)\n",
    "\n",
    "plt.show()"
   ]
  },
  {
   "cell_type": "markdown",
   "id": "3c901038",
   "metadata": {},
   "source": [
    "# Use pandas to create a Series named numbers from the following list:"
   ]
  },
  {
   "cell_type": "code",
   "execution_count": 134,
   "id": "c1d37fbc",
   "metadata": {},
   "outputs": [
    {
     "data": {
      "text/plain": [
       "0       $796,459.41\n",
       "1           $278.60\n",
       "2       $482,571.67\n",
       "3     $4,503,915.98\n",
       "4      $2,121,418.3\n",
       "5      $1,260,813.3\n",
       "6        $87,231.01\n",
       "7     $1,509,175.45\n",
       "8     $4,138,548.00\n",
       "9     $2,848,913.80\n",
       "10      $594,715.39\n",
       "11    $4,789,988.17\n",
       "12     $4,513,644.5\n",
       "13    $3,191,059.97\n",
       "14    $1,758,712.24\n",
       "15    $4,338,283.54\n",
       "16    $4,738,303.38\n",
       "17    $2,791,759.67\n",
       "18      $769,681.94\n",
       "19      $452,650.23\n",
       "dtype: object"
      ]
     },
     "execution_count": 134,
     "metadata": {},
     "output_type": "execute_result"
    }
   ],
   "source": [
    "numbers = list(    ['$796,459.41', '$278.60', '$482,571.67', '$4,503,915.98', '$2,121,418.3', '$1,260,813.3', '$87,231.01', '$1,509,175.45', '$4,138,548.00', '$2,848,913.80', '$594,715.39', '$4,789,988.17', '$4,513,644.5', '$3,191,059.97', '$1,758,712.24', '$4,338,283.54', '$4,738,303.38', '$2,791,759.67', '$769,681.94', '$452,650.23'])\n",
    "numbers_series = pd.Series(numbers)\n",
    "numbers_series"
   ]
  },
  {
   "cell_type": "markdown",
   "id": "35d677a4",
   "metadata": {},
   "source": [
    "# Questions\n",
    "\n",
    "1 What is the data type of the numbers Series?\n",
    "\n",
    "2 How many elements are in the number Series?\n",
    "\n",
    "3 Perform the necessary manipulations by accessing Series attributes and methods to convert the numbers Series to a numeric data type.\n",
    "\n",
    "4 Run the code to discover the maximum value from the Series.\n",
    "\n",
    "5 Run the code to discover the minimum value from the Series.\n",
    "\n",
    "6 What is the range of the values in the Series?\n",
    "\n",
    "7 Bin the data into 4 equally sized intervals or bins and output how many values fall into each bin.\n",
    "\n",
    "8 Plot the binned data in a meaningful way. Be sure to include a title and axis labels.\n"
   ]
  },
  {
   "cell_type": "code",
   "execution_count": 136,
   "id": "ddfb4692",
   "metadata": {},
   "outputs": [
    {
     "data": {
      "text/plain": [
       "pandas.core.series.Series"
      ]
     },
     "execution_count": 136,
     "metadata": {},
     "output_type": "execute_result"
    }
   ],
   "source": [
    "# 1 What is the data type of the numbers Series?\n",
    "type(numbers)\n",
    "type(numbers_series)"
   ]
  },
  {
   "cell_type": "code",
   "execution_count": 138,
   "id": "d6a7486e",
   "metadata": {},
   "outputs": [
    {
     "data": {
      "text/plain": [
       "20"
      ]
     },
     "execution_count": 138,
     "metadata": {},
     "output_type": "execute_result"
    }
   ],
   "source": [
    "# 2 How many elements are in the number Series?\n",
    "numbers_series.count()"
   ]
  },
  {
   "cell_type": "code",
   "execution_count": 140,
   "id": "0da212f1",
   "metadata": {},
   "outputs": [
    {
     "data": {
      "text/plain": [
       "20"
      ]
     },
     "execution_count": 140,
     "metadata": {},
     "output_type": "execute_result"
    }
   ],
   "source": [
    "# 3 Perform the necessary manipulations by accessing Series attributes \n",
    "# and methods to convert the numbers Series to a numeric data type.\n",
    "numbers_series.count()"
   ]
  },
  {
   "cell_type": "code",
   "execution_count": 144,
   "id": "013bc571",
   "metadata": {},
   "outputs": [
    {
     "data": {
      "text/plain": [
       "'$87,231.01'"
      ]
     },
     "execution_count": 144,
     "metadata": {},
     "output_type": "execute_result"
    }
   ],
   "source": [
    "# 4 Run the code to discover the maximum value from the Series.\n",
    "numbers_series.max()"
   ]
  },
  {
   "cell_type": "code",
   "execution_count": 145,
   "id": "95f911b0",
   "metadata": {},
   "outputs": [
    {
     "data": {
      "text/plain": [
       "'$1,260,813.3'"
      ]
     },
     "execution_count": 145,
     "metadata": {},
     "output_type": "execute_result"
    }
   ],
   "source": [
    "# 5 Run the code to discover the minimum value from the Series.\n",
    "numbers_series.min()"
   ]
  },
  {
   "cell_type": "code",
   "execution_count": 150,
   "id": "cb314486",
   "metadata": {},
   "outputs": [
    {
     "data": {
      "text/plain": [
       "range"
      ]
     },
     "execution_count": 150,
     "metadata": {},
     "output_type": "execute_result"
    }
   ],
   "source": [
    "# 6 What is the range of the values in the Series?\n",
    "range"
   ]
  },
  {
   "cell_type": "code",
   "execution_count": null,
   "id": "1190505c",
   "metadata": {},
   "outputs": [],
   "source": [
    "# 7 Bin the data into 4 equally sized intervals or bins and output how many values fall into each bin.\n"
   ]
  },
  {
   "cell_type": "code",
   "execution_count": null,
   "id": "3d4d10c2",
   "metadata": {},
   "outputs": [],
   "source": [
    "# 8 Plot the binned data in a meaningful way. Be sure to include a title and axis labels.\n"
   ]
  }
 ],
 "metadata": {
  "kernelspec": {
   "display_name": "Python 3",
   "language": "python",
   "name": "python3"
  },
  "language_info": {
   "codemirror_mode": {
    "name": "ipython",
    "version": 3
   },
   "file_extension": ".py",
   "mimetype": "text/x-python",
   "name": "python",
   "nbconvert_exporter": "python",
   "pygments_lexer": "ipython3",
   "version": "3.8.8"
  }
 },
 "nbformat": 4,
 "nbformat_minor": 5
}
