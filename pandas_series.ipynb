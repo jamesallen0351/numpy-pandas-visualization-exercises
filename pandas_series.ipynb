{
 "cells": [
  {
   "cell_type": "markdown",
   "id": "944ff99d",
   "metadata": {},
   "source": [
    "# Make a file named pandas_series.py or pandas_series.ipynb for the following exercises.\n",
    "\n",
    "Use pandas to create a Series named fruits from the following list:\n",
    "\n",
    "\n",
    "    [\"kiwi\", \"mango\", \"strawberry\", \"pineapple\", \"gala apple\", \"honeycrisp apple\", \"tomato\", \"watermelon\", \"honeydew\", \"kiwi\", \"kiwi\", \"kiwi\", \"mango\", \"blueberry\", \"blackberry\", \"gooseberry\", \"papaya\"]\n",
    "Use Series attributes and methods to explore your fruits Series.\n",
    "\n",
    "Determine the number of elements in fruits.\n",
    "\n",
    "Output only the index from fruits.\n",
    "\n",
    "Output only the values from fruits.\n",
    "\n",
    "Confirm the data type of the values in fruits.\n",
    "\n",
    "Output only the first five values from fruits. Output the last three values. Output two random values from fruits.\n",
    "\n",
    "Run the .describe() on fruits to see what information it returns when called on a Series with string values.\n",
    "\n",
    "Run the code necessary to produce only the unique string values from fruits.\n",
    "\n",
    "Determine how many times each unique string value occurs in fruits.\n",
    "\n",
    "Determine the string value that occurs most frequently in fruits.\n",
    "\n",
    "Determine the string value that occurs least frequently in fruits."
   ]
  },
  {
   "cell_type": "code",
   "execution_count": 4,
   "id": "4f1bcb06",
   "metadata": {},
   "outputs": [],
   "source": [
    "import numpy as np\n",
    "import pandas as pd\n",
    "\n",
    "import matplotlib.pyplot as plt\n"
   ]
  },
  {
   "cell_type": "code",
   "execution_count": 5,
   "id": "774f7a6a",
   "metadata": {},
   "outputs": [
    {
     "name": "stdout",
     "output_type": "stream",
     "text": [
      "0                 kiwi\n",
      "1                mango\n",
      "2           strawberry\n",
      "3            pineapple\n",
      "4           gala apple\n",
      "5     honeycrisp apple\n",
      "6               tomato\n",
      "7           watermelon\n",
      "8             honeydew\n",
      "9                 kiwi\n",
      "10                kiwi\n",
      "11                kiwi\n",
      "12               mango\n",
      "13           blueberry\n",
      "14          blackberry\n",
      "15          gooseberry\n",
      "16              papaya\n",
      "dtype: object\n"
     ]
    }
   ],
   "source": [
    "fruits = pd.Series([\"kiwi\", \"mango\", \"strawberry\", \"pineapple\", \"gala apple\", \"honeycrisp apple\", \"tomato\", \"watermelon\", \"honeydew\", \"kiwi\", \"kiwi\", \"kiwi\", \"mango\", \"blueberry\", \"blackberry\", \"gooseberry\", \"papaya\"])\n",
    "print(fruits)"
   ]
  },
  {
   "cell_type": "code",
   "execution_count": 6,
   "id": "228370b3",
   "metadata": {},
   "outputs": [
    {
     "data": {
      "text/plain": [
       "count       17\n",
       "unique      13\n",
       "top       kiwi\n",
       "freq         4\n",
       "dtype: object"
      ]
     },
     "execution_count": 6,
     "metadata": {},
     "output_type": "execute_result"
    }
   ],
   "source": [
    "#1 Determine the number of elements in fruits.\n",
    "\n",
    "fruits.describe()"
   ]
  },
  {
   "cell_type": "code",
   "execution_count": 7,
   "id": "4a7cbe7f",
   "metadata": {},
   "outputs": [
    {
     "data": {
      "text/plain": [
       "17"
      ]
     },
     "execution_count": 7,
     "metadata": {},
     "output_type": "execute_result"
    }
   ],
   "source": [
    "fruits.count()"
   ]
  },
  {
   "cell_type": "code",
   "execution_count": 8,
   "id": "00bcd15e",
   "metadata": {},
   "outputs": [
    {
     "data": {
      "text/plain": [
       "0                 kiwi\n",
       "1                mango\n",
       "2           strawberry\n",
       "3            pineapple\n",
       "4           gala apple\n",
       "5     honeycrisp apple\n",
       "6               tomato\n",
       "7           watermelon\n",
       "8             honeydew\n",
       "9                 kiwi\n",
       "10                kiwi\n",
       "11                kiwi\n",
       "12               mango\n",
       "13           blueberry\n",
       "14          blackberry\n",
       "15          gooseberry\n",
       "16              papaya\n",
       "dtype: object"
      ]
     },
     "execution_count": 8,
     "metadata": {},
     "output_type": "execute_result"
    }
   ],
   "source": [
    "#2 Output only the index from fruits.\n",
    "#fruits.index\n",
    "#fruits.index.tolist()\n",
    "\n",
    "fruits.sort_index()"
   ]
  },
  {
   "cell_type": "code",
   "execution_count": 9,
   "id": "f03ae7d8",
   "metadata": {},
   "outputs": [
    {
     "data": {
      "text/plain": [
       "14          blackberry\n",
       "13           blueberry\n",
       "4           gala apple\n",
       "15          gooseberry\n",
       "5     honeycrisp apple\n",
       "8             honeydew\n",
       "11                kiwi\n",
       "10                kiwi\n",
       "9                 kiwi\n",
       "0                 kiwi\n",
       "12               mango\n",
       "1                mango\n",
       "16              papaya\n",
       "3            pineapple\n",
       "2           strawberry\n",
       "6               tomato\n",
       "7           watermelon\n",
       "dtype: object"
      ]
     },
     "execution_count": 9,
     "metadata": {},
     "output_type": "execute_result"
    }
   ],
   "source": [
    "#3 Output only the values from fruits.\n",
    "# fruits.values\n",
    "# fruits.values.tolist()\n",
    "\n",
    "fruits.sort_values()"
   ]
  },
  {
   "cell_type": "code",
   "execution_count": 10,
   "id": "746fb7d4",
   "metadata": {},
   "outputs": [
    {
     "data": {
      "text/plain": [
       "pandas.core.series.Series"
      ]
     },
     "execution_count": 10,
     "metadata": {},
     "output_type": "execute_result"
    }
   ],
   "source": [
    "#4 Confirm the data type of the values in fruits.\n",
    "#fruits.dtype\n",
    "type(fruits)"
   ]
  },
  {
   "cell_type": "code",
   "execution_count": 11,
   "id": "43f07e2a",
   "metadata": {},
   "outputs": [
    {
     "name": "stdout",
     "output_type": "stream",
     "text": [
      "0          kiwi\n",
      "1         mango\n",
      "2    strawberry\n",
      "3     pineapple\n",
      "4    gala apple\n",
      "dtype: object 14    blackberry\n",
      "15    gooseberry\n",
      "16        papaya\n",
      "dtype: object 13     blueberry\n",
      "14    blackberry\n",
      "dtype: object\n"
     ]
    }
   ],
   "source": [
    "#5 Output only the first five values from fruits. \n",
    "#Output the last three values. \n",
    "#Output two random values from fruits.\n",
    "\n",
    "first_five = fruits.head(5)\n",
    "last_three = fruits.tail(3)\n",
    "two_random = fruits.sample(2)\n",
    "print(first_five, \n",
    "      last_three, \n",
    "      two_random)"
   ]
  },
  {
   "cell_type": "code",
   "execution_count": 12,
   "id": "aece3b76",
   "metadata": {},
   "outputs": [
    {
     "data": {
      "text/plain": [
       "count       17\n",
       "unique      13\n",
       "top       kiwi\n",
       "freq         4\n",
       "dtype: object"
      ]
     },
     "execution_count": 12,
     "metadata": {},
     "output_type": "execute_result"
    }
   ],
   "source": [
    "#6 Run the .describe() on fruits to see what information it returns when called on a Series with string values.\n",
    "fruits.describe()"
   ]
  },
  {
   "cell_type": "code",
   "execution_count": 13,
   "id": "007fbe40",
   "metadata": {},
   "outputs": [
    {
     "data": {
      "text/plain": [
       "array(['kiwi', 'mango', 'strawberry', 'pineapple', 'gala apple',\n",
       "       'honeycrisp apple', 'tomato', 'watermelon', 'honeydew',\n",
       "       'blueberry', 'blackberry', 'gooseberry', 'papaya'], dtype=object)"
      ]
     },
     "execution_count": 13,
     "metadata": {},
     "output_type": "execute_result"
    }
   ],
   "source": [
    "#7 Run the code necessary to produce only the unique string values from fruits.\n",
    "# fruits.unique.tolist()\n",
    "# fruits.nunique() #number of unique values\n",
    "fruits.unique()"
   ]
  },
  {
   "cell_type": "code",
   "execution_count": 14,
   "id": "b9894e12",
   "metadata": {},
   "outputs": [
    {
     "name": "stdout",
     "output_type": "stream",
     "text": [
      "kiwi                4\n",
      "mango               2\n",
      "watermelon          1\n",
      "strawberry          1\n",
      "blueberry           1\n",
      "papaya              1\n",
      "pineapple           1\n",
      "honeydew            1\n",
      "tomato              1\n",
      "blackberry          1\n",
      "honeycrisp apple    1\n",
      "gala apple          1\n",
      "gooseberry          1\n",
      "dtype: int64\n"
     ]
    }
   ],
   "source": [
    "#8 Determine how many times each unique string value occurs in fruits.\n",
    "\n",
    "unique_value = fruits.value_counts()\n",
    "\n",
    "print(unique_value)"
   ]
  },
  {
   "cell_type": "code",
   "execution_count": 15,
   "id": "db06278c",
   "metadata": {},
   "outputs": [
    {
     "data": {
      "text/plain": [
       "kiwi    4\n",
       "dtype: int64"
      ]
     },
     "execution_count": 15,
     "metadata": {},
     "output_type": "execute_result"
    }
   ],
   "source": [
    "#9 Determine the string value that occurs most frequently in fruits.\n",
    "# fruits.value_counts().head(1)\n",
    "# fruits.value_counts().idxmax() -- only returns the first occurance \"kiwi\"\n",
    "\n",
    "fruits.value_counts().nlargest(n = 1, keep = \"all\")"
   ]
  },
  {
   "cell_type": "code",
   "execution_count": 16,
   "id": "7f275a4c",
   "metadata": {},
   "outputs": [
    {
     "name": "stdout",
     "output_type": "stream",
     "text": [
      "watermelon          1.0\n",
      "strawberry          1.0\n",
      "blueberry           1.0\n",
      "papaya              1.0\n",
      "pineapple           1.0\n",
      "honeydew            1.0\n",
      "tomato              1.0\n",
      "blackberry          1.0\n",
      "honeycrisp apple    1.0\n",
      "gala apple          1.0\n",
      "gooseberry          1.0\n",
      "dtype: float64\n"
     ]
    }
   ],
   "source": [
    "#10 Determine the string value that occurs least frequently in fruits.\n",
    "\n",
    "counts = fruits.value_counts()\n",
    "min_count = counts.min()\n",
    "print(counts.where(counts == min_count).dropna())"
   ]
  },
  {
   "cell_type": "code",
   "execution_count": 17,
   "id": "f503968e",
   "metadata": {},
   "outputs": [
    {
     "data": {
      "text/plain": [
       "watermelon          1\n",
       "strawberry          1\n",
       "blueberry           1\n",
       "papaya              1\n",
       "pineapple           1\n",
       "honeydew            1\n",
       "tomato              1\n",
       "blackberry          1\n",
       "honeycrisp apple    1\n",
       "gala apple          1\n",
       "gooseberry          1\n",
       "dtype: int64"
      ]
     },
     "execution_count": 17,
     "metadata": {},
     "output_type": "execute_result"
    }
   ],
   "source": [
    "# another way to answer #10 Determine the string value that occurs least frequently in fruits.\n",
    "fruits.value_counts().nsmallest(n = 1, keep = \"all\")"
   ]
  },
  {
   "cell_type": "markdown",
   "id": "d52e5be3",
   "metadata": {},
   "source": [
    "# Exercises Part II\n",
    "Explore more attributes and methods while you continue to work with the fruits Series.\n",
    "\n",
    "1 Capitalize all the string values in fruits.\n",
    "\n",
    "2 Count the letter \"a\" in all the string values (use string vectorization).\n",
    "\n",
    "3 Output the number of vowels in each and every string value.\n",
    "\n",
    "4 Write the code to get the longest string value from fruits.\n",
    "\n",
    "5 Write the code to get the string values with 5 or more letters in the name.\n",
    "\n",
    "6 Use the .apply method with a lambda function to find the fruit(s) containing the letter \"o\" two or more times.\n",
    "\n",
    "7 Write the code to get only the string values containing the substring \"berry\".\n",
    "\n",
    "8 Write the code to get only the string values containing the substring \"apple\".\n",
    "\n",
    "9 Which string value contains the most vowels?"
   ]
  },
  {
   "cell_type": "code",
   "execution_count": 18,
   "id": "361a14ff",
   "metadata": {},
   "outputs": [
    {
     "data": {
      "text/plain": [
       "0                 KIWI\n",
       "1                MANGO\n",
       "2           STRAWBERRY\n",
       "3            PINEAPPLE\n",
       "4           GALA APPLE\n",
       "5     HONEYCRISP APPLE\n",
       "6               TOMATO\n",
       "7           WATERMELON\n",
       "8             HONEYDEW\n",
       "9                 KIWI\n",
       "10                KIWI\n",
       "11                KIWI\n",
       "12               MANGO\n",
       "13           BLUEBERRY\n",
       "14          BLACKBERRY\n",
       "15          GOOSEBERRY\n",
       "16              PAPAYA\n",
       "dtype: object"
      ]
     },
     "execution_count": 18,
     "metadata": {},
     "output_type": "execute_result"
    }
   ],
   "source": [
    "# 1 Capitalize all the string values in fruits.\n",
    "fruits.str.upper()"
   ]
  },
  {
   "cell_type": "code",
   "execution_count": 37,
   "id": "01dd3f07",
   "metadata": {},
   "outputs": [
    {
     "name": "stdout",
     "output_type": "stream",
     "text": [
      "14\n"
     ]
    }
   ],
   "source": [
    "# 2 Count the letter \"a\" in all the string values (use string vectorization).\n",
    "count_fruit = fruits.str.count('a').sum()\n",
    "print(count_fruit)"
   ]
  },
  {
   "cell_type": "code",
   "execution_count": 39,
   "id": "a84d79b7",
   "metadata": {},
   "outputs": [
    {
     "name": "stdout",
     "output_type": "stream",
     "text": [
      "0     2\n",
      "1     2\n",
      "2     2\n",
      "3     4\n",
      "4     4\n",
      "5     5\n",
      "6     3\n",
      "7     4\n",
      "8     3\n",
      "9     2\n",
      "10    2\n",
      "11    2\n",
      "12    2\n",
      "13    3\n",
      "14    2\n",
      "15    4\n",
      "16    3\n",
      "dtype: int64\n"
     ]
    }
   ],
   "source": [
    "# 3 Output the number of vowels in each and every string value.\n",
    "num_vowels = fruits.str.count(r'[aeiou]')\n",
    "print(num_vowels)"
   ]
  },
  {
   "cell_type": "code",
   "execution_count": 84,
   "id": "ebe64e9a",
   "metadata": {},
   "outputs": [
    {
     "data": {
      "text/plain": [
       "16"
      ]
     },
     "execution_count": 84,
     "metadata": {},
     "output_type": "execute_result"
    }
   ],
   "source": [
    "# 4 Write the code to get the longest string value from fruits.\n",
    "fruit_length = fruits.str.len()\n",
    "fruit_length.max()"
   ]
  },
  {
   "cell_type": "code",
   "execution_count": 82,
   "id": "c34f284c",
   "metadata": {},
   "outputs": [
    {
     "name": "stdout",
     "output_type": "stream",
     "text": [
      "16\n"
     ]
    }
   ],
   "source": [
    "#4 easier one liner\n",
    "fruit_length_1 = max(fruits.str.len())\n",
    "print(fruit_length_1)\n",
    "# max(fruits, key=len)"
   ]
  },
  {
   "cell_type": "code",
   "execution_count": 85,
   "id": "7a34fdcb",
   "metadata": {},
   "outputs": [
    {
     "name": "stdout",
     "output_type": "stream",
     "text": [
      "1      5\n",
      "2     10\n",
      "3      9\n",
      "4     10\n",
      "5     16\n",
      "6      6\n",
      "7     10\n",
      "8      8\n",
      "12     5\n",
      "13     9\n",
      "14    10\n",
      "15    10\n",
      "16     6\n",
      "dtype: int64\n"
     ]
    }
   ],
   "source": [
    "# 5 Write the code to get the string values with 5 or more letters in the name.\n",
    "fruit_length_5 = fruit_length[fruit_length >= 5]\n",
    "print(fruit_length_5)"
   ]
  },
  {
   "cell_type": "code",
   "execution_count": 96,
   "id": "f7b0b6e5",
   "metadata": {},
   "outputs": [
    {
     "name": "stdout",
     "output_type": "stream",
     "text": [
      "6         tomato\n",
      "15    gooseberry\n",
      "dtype: object\n"
     ]
    }
   ],
   "source": [
    "# 6 Use the .apply method with a lambda function to find the fruit(s) containing the letter \"o\" two or more times.\n",
    "mask = fruits.apply(lambda n: n.count('o') >= 2)\n",
    "print(fruits[mask])"
   ]
  },
  {
   "cell_type": "code",
   "execution_count": 112,
   "id": "1072d845",
   "metadata": {},
   "outputs": [
    {
     "data": {
      "text/plain": [
       "2     strawberry\n",
       "13     blueberry\n",
       "14    blackberry\n",
       "15    gooseberry\n",
       "dtype: object"
      ]
     },
     "execution_count": 112,
     "metadata": {},
     "output_type": "execute_result"
    }
   ],
   "source": [
    "# 7 Write the code to get only the string values containing the substring \"berry\".\n",
    "# mask = fruits.apply(lambda row: 'berry' in row)\n",
    "# fruits[mask]\n",
    "berry_mask = fruits.apply(lambda n: \"berry\" in n)\n",
    "fruits[berry_mask]"
   ]
  },
  {
   "cell_type": "code",
   "execution_count": 113,
   "id": "befbc35e",
   "metadata": {},
   "outputs": [
    {
     "name": "stdout",
     "output_type": "stream",
     "text": [
      "3           pineapple\n",
      "4          gala apple\n",
      "5    honeycrisp apple\n",
      "dtype: object\n"
     ]
    }
   ],
   "source": [
    "# 8 Write the code to get only the string values containing the substring \"apple\".\n",
    "#print(data[data.str.contains(\"apple\")])\n",
    "apple_1 = fruits[fruits.str.contains(\"apple\")]\n",
    "print(apple_1)"
   ]
  },
  {
   "cell_type": "code",
   "execution_count": 121,
   "id": "53753203",
   "metadata": {},
   "outputs": [
    {
     "data": {
      "text/plain": [
       "'honeycrisp apple'"
      ]
     },
     "execution_count": 121,
     "metadata": {},
     "output_type": "execute_result"
    }
   ],
   "source": [
    "# 9 Which string value contains the most vowels?\n",
    "#fruits[fruits.apply(vowel_counter) == fruits.apply(vowel_counter).max()]\n",
    "\n",
    "fruits[max(fruits.str.count(r'[aeiou]'))]"
   ]
  },
  {
   "cell_type": "code",
   "execution_count": null,
   "id": "075f30ed",
   "metadata": {},
   "outputs": [],
   "source": []
  }
 ],
 "metadata": {
  "kernelspec": {
   "display_name": "Python 3",
   "language": "python",
   "name": "python3"
  },
  "language_info": {
   "codemirror_mode": {
    "name": "ipython",
    "version": 3
   },
   "file_extension": ".py",
   "mimetype": "text/x-python",
   "name": "python",
   "nbconvert_exporter": "python",
   "pygments_lexer": "ipython3",
   "version": "3.8.8"
  }
 },
 "nbformat": 4,
 "nbformat_minor": 5
}
