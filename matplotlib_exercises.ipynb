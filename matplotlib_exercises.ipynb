{
 "cells": [
  {
   "cell_type": "markdown",
   "id": "7c55c73d",
   "metadata": {},
   "source": [
    "# matplotlib_exercises"
   ]
  },
  {
   "cell_type": "code",
   "execution_count": 2,
   "id": "b2a49706",
   "metadata": {},
   "outputs": [
    {
     "ename": "NameError",
     "evalue": "name 'x' is not defined",
     "output_type": "error",
     "traceback": [
      "\u001b[0;31m---------------------------------------------------------------------------\u001b[0m",
      "\u001b[0;31mNameError\u001b[0m                                 Traceback (most recent call last)",
      "\u001b[0;32m<ipython-input-2-378c410c00ec>\u001b[0m in \u001b[0;36m<module>\u001b[0;34m\u001b[0m\n\u001b[1;32m      1\u001b[0m \u001b[0;31m#1 Use matplotlib to plot the following equation:\u001b[0m\u001b[0;34m\u001b[0m\u001b[0;34m\u001b[0m\u001b[0;34m\u001b[0m\u001b[0m\n\u001b[0;32m----> 2\u001b[0;31m \u001b[0my\u001b[0m \u001b[0;34m=\u001b[0m \u001b[0mx\u001b[0m\u001b[0;34m**\u001b[0m\u001b[0;36m2\u001b[0m \u001b[0;34m-\u001b[0m \u001b[0mx\u001b[0m \u001b[0;34m+\u001b[0m \u001b[0;36m2\u001b[0m\u001b[0;34m\u001b[0m\u001b[0;34m\u001b[0m\u001b[0m\n\u001b[0m",
      "\u001b[0;31mNameError\u001b[0m: name 'x' is not defined"
     ]
    }
   ],
   "source": [
    "#1 Use matplotlib to plot the following equation:\n",
    "y = x**2 - x + 2\n",
    "\n",
    "#You'll need to write the code that generates the x and y points.\n",
    "#Add an anotation for the point 0, 0, the origin."
   ]
  },
  {
   "cell_type": "code",
   "execution_count": 3,
   "id": "55ccadfe",
   "metadata": {},
   "outputs": [],
   "source": [
    "#2 Create and label 4 separate charts for the following equations (choose a range for x that makes sense):"
   ]
  },
  {
   "cell_type": "code",
   "execution_count": null,
   "id": "c493c23f",
   "metadata": {},
   "outputs": [],
   "source": []
  }
 ],
 "metadata": {
  "kernelspec": {
   "display_name": "Python 3",
   "language": "python",
   "name": "python3"
  },
  "language_info": {
   "codemirror_mode": {
    "name": "ipython",
    "version": 3
   },
   "file_extension": ".py",
   "mimetype": "text/x-python",
   "name": "python",
   "nbconvert_exporter": "python",
   "pygments_lexer": "ipython3",
   "version": "3.8.8"
  }
 },
 "nbformat": 4,
 "nbformat_minor": 5
}
